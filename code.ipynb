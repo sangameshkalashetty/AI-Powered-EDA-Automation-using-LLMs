{
 "cells": [
  {
   "cell_type": "code",
   "execution_count": 12,
   "metadata": {},
   "outputs": [],
   "source": [
    "import  pandas as  pd\n",
    "import seaborn as sns\n",
    "import matplotlib.pyplot as plt"
   ]
  },
  {
   "cell_type": "code",
   "execution_count": 13,
   "metadata": {},
   "outputs": [
    {
     "data": {
      "application/vnd.microsoft.datawrangler.viewer.v0+json": {
       "columns": [
        {
         "name": "index",
         "rawType": "int64",
         "type": "integer"
        },
        {
         "name": "CountryName",
         "rawType": "object",
         "type": "string"
        },
        {
         "name": "CountryCode",
         "rawType": "object",
         "type": "string"
        },
        {
         "name": "BirthRate",
         "rawType": "float64",
         "type": "float"
        },
        {
         "name": "InternetUsers",
         "rawType": "float64",
         "type": "float"
        },
        {
         "name": "IncomeGroup",
         "rawType": "object",
         "type": "string"
        }
       ],
       "conversionMethod": "pd.DataFrame",
       "ref": "fc1f86cf-1a5e-45ba-b5f6-3656864ec55f",
       "rows": [
        [
         "0",
         "Aruba",
         "ABW",
         "10.244",
         "78.9",
         "High income"
        ],
        [
         "1",
         "Afghanistan",
         "AFG",
         "35.253",
         "5.9",
         "Low income"
        ],
        [
         "2",
         "Angola",
         "AGO",
         "45.985",
         "19.1",
         "Upper middle income"
        ],
        [
         "3",
         "Albania",
         "ALB",
         "12.877",
         "57.2",
         "Upper middle income"
        ],
        [
         "4",
         "United Arab Emirates",
         "ARE",
         "11.044",
         "88.0",
         "High income"
        ],
        [
         "5",
         "Argentina",
         "ARG",
         "17.716",
         "59.9",
         "High income"
        ],
        [
         "6",
         "Armenia",
         "ARM",
         "13.308",
         "41.9",
         "Lower middle income"
        ],
        [
         "7",
         "Antigua and Barbuda",
         "ATG",
         "16.447",
         "63.4",
         "High income"
        ],
        [
         "8",
         "Australia",
         "AUS",
         "13.2",
         "83.0",
         "High income"
        ],
        [
         "9",
         "Austria",
         "AUT",
         "9.4",
         "80.6188",
         "High income"
        ],
        [
         "10",
         "Azerbaijan",
         "AZE",
         "18.3",
         "58.7",
         "Upper middle income"
        ],
        [
         "11",
         "Burundi",
         "BDI",
         "44.151",
         "1.3",
         "Low income"
        ],
        [
         "12",
         "Belgium",
         "BEL",
         "11.2",
         "82.1702",
         "High income"
        ],
        [
         "13",
         "Benin",
         "BEN",
         "36.44",
         "4.9",
         "Low income"
        ],
        [
         "14",
         "Burkina Faso",
         "BFA",
         "40.551",
         "9.1",
         "Low income"
        ],
        [
         "15",
         "Bangladesh",
         "BGD",
         "20.142",
         "6.63",
         "Lower middle income"
        ],
        [
         "16",
         "Bulgaria",
         "BGR",
         "9.2",
         "53.0615",
         "Upper middle income"
        ],
        [
         "17",
         "Bahrain",
         "BHR",
         "15.04",
         "90.0000397",
         "High income"
        ],
        [
         "18",
         "Bahamas, The",
         "BHS",
         "15.339",
         "72.0",
         "High income"
        ],
        [
         "19",
         "Bosnia and Herzegovina",
         "BIH",
         "9.062",
         "57.79",
         "Upper middle income"
        ],
        [
         "20",
         "Belarus",
         "BLR",
         "12.5",
         "54.17",
         "Upper middle income"
        ],
        [
         "21",
         "Belize",
         "BLZ",
         "23.092",
         "33.6",
         "Upper middle income"
        ],
        [
         "22",
         "Bermuda",
         "BMU",
         "10.4",
         "95.3",
         "High income"
        ],
        [
         "23",
         "Bolivia",
         "BOL",
         "24.236",
         "36.94",
         "Lower middle income"
        ],
        [
         "24",
         "Brazil",
         "BRA",
         "14.931",
         "51.04",
         "Upper middle income"
        ],
        [
         "25",
         "Barbados",
         "BRB",
         "12.188",
         "73.0",
         "High income"
        ],
        [
         "26",
         "Brunei Darussalam",
         "BRN",
         "16.405",
         "64.5",
         "High income"
        ],
        [
         "27",
         "Bhutan",
         "BTN",
         "18.134",
         "29.9",
         "Lower middle income"
        ],
        [
         "28",
         "Botswana",
         "BWA",
         "25.267",
         "15.0",
         "Upper middle income"
        ],
        [
         "29",
         "Central African Republic",
         "CAF",
         "34.076",
         "3.5",
         "Low income"
        ],
        [
         "30",
         "Canada",
         "CAN",
         "10.9",
         "85.8",
         "High income"
        ],
        [
         "31",
         "Switzerland",
         "CHE",
         "10.2",
         "86.34",
         "High income"
        ],
        [
         "32",
         "Chile",
         "CHL",
         "13.385",
         "66.5",
         "High income"
        ],
        [
         "33",
         "China",
         "CHN",
         "12.1",
         "45.8",
         "Upper middle income"
        ],
        [
         "34",
         "Cote d'Ivoire",
         "CIV",
         "37.32",
         "8.4",
         "Lower middle income"
        ],
        [
         "35",
         "Cameroon",
         "CMR",
         "37.236",
         "6.4",
         "Lower middle income"
        ],
        [
         "36",
         "Congo, Rep.",
         "COG",
         "37.011",
         "6.6",
         "Lower middle income"
        ],
        [
         "37",
         "Colombia",
         "COL",
         "16.076",
         "51.7",
         "Upper middle income"
        ],
        [
         "38",
         "Comoros",
         "COM",
         "34.326",
         "6.5",
         "Low income"
        ],
        [
         "39",
         "Cabo Verde",
         "CPV",
         "21.625",
         "37.5",
         "Lower middle income"
        ],
        [
         "40",
         "Costa Rica",
         "CRI",
         "15.022",
         "45.96",
         "Upper middle income"
        ],
        [
         "41",
         "Cuba",
         "CUB",
         "10.4",
         "27.93",
         "Upper middle income"
        ],
        [
         "42",
         "Cayman Islands",
         "CYM",
         "12.5",
         "74.1",
         "High income"
        ],
        [
         "43",
         "Cyprus",
         "CYP",
         "11.436",
         "65.4548",
         "High income"
        ],
        [
         "44",
         "Czech Republic",
         "CZE",
         "10.2",
         "74.1104",
         "High income"
        ],
        [
         "45",
         "Germany",
         "DEU",
         "8.5",
         "84.17",
         "High income"
        ],
        [
         "46",
         "Djibouti",
         "DJI",
         "25.486",
         "9.5",
         "Lower middle income"
        ],
        [
         "47",
         "Denmark",
         "DNK",
         "10.0",
         "94.6297",
         "High income"
        ],
        [
         "48",
         "Dominican Republic",
         "DOM",
         "21.198",
         "45.9",
         "Upper middle income"
        ],
        [
         "49",
         "Algeria",
         "DZA",
         "24.738",
         "16.5",
         "Upper middle income"
        ]
       ],
       "shape": {
        "columns": 5,
        "rows": 195
       }
      },
      "text/html": [
       "<div>\n",
       "<style scoped>\n",
       "    .dataframe tbody tr th:only-of-type {\n",
       "        vertical-align: middle;\n",
       "    }\n",
       "\n",
       "    .dataframe tbody tr th {\n",
       "        vertical-align: top;\n",
       "    }\n",
       "\n",
       "    .dataframe thead th {\n",
       "        text-align: right;\n",
       "    }\n",
       "</style>\n",
       "<table border=\"1\" class=\"dataframe\">\n",
       "  <thead>\n",
       "    <tr style=\"text-align: right;\">\n",
       "      <th></th>\n",
       "      <th>CountryName</th>\n",
       "      <th>CountryCode</th>\n",
       "      <th>BirthRate</th>\n",
       "      <th>InternetUsers</th>\n",
       "      <th>IncomeGroup</th>\n",
       "    </tr>\n",
       "  </thead>\n",
       "  <tbody>\n",
       "    <tr>\n",
       "      <th>0</th>\n",
       "      <td>Aruba</td>\n",
       "      <td>ABW</td>\n",
       "      <td>10.244</td>\n",
       "      <td>78.9</td>\n",
       "      <td>High income</td>\n",
       "    </tr>\n",
       "    <tr>\n",
       "      <th>1</th>\n",
       "      <td>Afghanistan</td>\n",
       "      <td>AFG</td>\n",
       "      <td>35.253</td>\n",
       "      <td>5.9</td>\n",
       "      <td>Low income</td>\n",
       "    </tr>\n",
       "    <tr>\n",
       "      <th>2</th>\n",
       "      <td>Angola</td>\n",
       "      <td>AGO</td>\n",
       "      <td>45.985</td>\n",
       "      <td>19.1</td>\n",
       "      <td>Upper middle income</td>\n",
       "    </tr>\n",
       "    <tr>\n",
       "      <th>3</th>\n",
       "      <td>Albania</td>\n",
       "      <td>ALB</td>\n",
       "      <td>12.877</td>\n",
       "      <td>57.2</td>\n",
       "      <td>Upper middle income</td>\n",
       "    </tr>\n",
       "    <tr>\n",
       "      <th>4</th>\n",
       "      <td>United Arab Emirates</td>\n",
       "      <td>ARE</td>\n",
       "      <td>11.044</td>\n",
       "      <td>88.0</td>\n",
       "      <td>High income</td>\n",
       "    </tr>\n",
       "    <tr>\n",
       "      <th>...</th>\n",
       "      <td>...</td>\n",
       "      <td>...</td>\n",
       "      <td>...</td>\n",
       "      <td>...</td>\n",
       "      <td>...</td>\n",
       "    </tr>\n",
       "    <tr>\n",
       "      <th>190</th>\n",
       "      <td>Yemen, Rep.</td>\n",
       "      <td>YEM</td>\n",
       "      <td>32.947</td>\n",
       "      <td>20.0</td>\n",
       "      <td>Lower middle income</td>\n",
       "    </tr>\n",
       "    <tr>\n",
       "      <th>191</th>\n",
       "      <td>South Africa</td>\n",
       "      <td>ZAF</td>\n",
       "      <td>20.850</td>\n",
       "      <td>46.5</td>\n",
       "      <td>Upper middle income</td>\n",
       "    </tr>\n",
       "    <tr>\n",
       "      <th>192</th>\n",
       "      <td>Congo, Dem. Rep.</td>\n",
       "      <td>COD</td>\n",
       "      <td>42.394</td>\n",
       "      <td>2.2</td>\n",
       "      <td>Low income</td>\n",
       "    </tr>\n",
       "    <tr>\n",
       "      <th>193</th>\n",
       "      <td>Zambia</td>\n",
       "      <td>ZMB</td>\n",
       "      <td>40.471</td>\n",
       "      <td>15.4</td>\n",
       "      <td>Lower middle income</td>\n",
       "    </tr>\n",
       "    <tr>\n",
       "      <th>194</th>\n",
       "      <td>Zimbabwe</td>\n",
       "      <td>ZWE</td>\n",
       "      <td>35.715</td>\n",
       "      <td>18.5</td>\n",
       "      <td>Low income</td>\n",
       "    </tr>\n",
       "  </tbody>\n",
       "</table>\n",
       "<p>195 rows × 5 columns</p>\n",
       "</div>"
      ],
      "text/plain": [
       "              CountryName CountryCode  BirthRate  InternetUsers  \\\n",
       "0                   Aruba         ABW     10.244           78.9   \n",
       "1             Afghanistan         AFG     35.253            5.9   \n",
       "2                  Angola         AGO     45.985           19.1   \n",
       "3                 Albania         ALB     12.877           57.2   \n",
       "4    United Arab Emirates         ARE     11.044           88.0   \n",
       "..                    ...         ...        ...            ...   \n",
       "190           Yemen, Rep.         YEM     32.947           20.0   \n",
       "191          South Africa         ZAF     20.850           46.5   \n",
       "192      Congo, Dem. Rep.         COD     42.394            2.2   \n",
       "193                Zambia         ZMB     40.471           15.4   \n",
       "194              Zimbabwe         ZWE     35.715           18.5   \n",
       "\n",
       "             IncomeGroup  \n",
       "0            High income  \n",
       "1             Low income  \n",
       "2    Upper middle income  \n",
       "3    Upper middle income  \n",
       "4            High income  \n",
       "..                   ...  \n",
       "190  Lower middle income  \n",
       "191  Upper middle income  \n",
       "192           Low income  \n",
       "193  Lower middle income  \n",
       "194           Low income  \n",
       "\n",
       "[195 rows x 5 columns]"
      ]
     },
     "execution_count": 13,
     "metadata": {},
     "output_type": "execute_result"
    }
   ],
   "source": [
    "url=r\"c:\\Users\\sangu\\Downloads\\data (2).csv\"\n",
    "df=pd.read_csv(url)\n",
    "df"
   ]
  },
  {
   "cell_type": "markdown",
   "metadata": {},
   "source": [
    "# Display dataset info\n",
    "print(df.describe())"
   ]
  },
  {
   "cell_type": "code",
   "execution_count": 14,
   "metadata": {},
   "outputs": [
    {
     "data": {
      "text/plain": [
       "<bound method NDFrame.head of               CountryName CountryCode  BirthRate  InternetUsers  \\\n",
       "0                   Aruba         ABW     10.244           78.9   \n",
       "1             Afghanistan         AFG     35.253            5.9   \n",
       "2                  Angola         AGO     45.985           19.1   \n",
       "3                 Albania         ALB     12.877           57.2   \n",
       "4    United Arab Emirates         ARE     11.044           88.0   \n",
       "..                    ...         ...        ...            ...   \n",
       "190           Yemen, Rep.         YEM     32.947           20.0   \n",
       "191          South Africa         ZAF     20.850           46.5   \n",
       "192      Congo, Dem. Rep.         COD     42.394            2.2   \n",
       "193                Zambia         ZMB     40.471           15.4   \n",
       "194              Zimbabwe         ZWE     35.715           18.5   \n",
       "\n",
       "             IncomeGroup  \n",
       "0            High income  \n",
       "1             Low income  \n",
       "2    Upper middle income  \n",
       "3    Upper middle income  \n",
       "4            High income  \n",
       "..                   ...  \n",
       "190  Lower middle income  \n",
       "191  Upper middle income  \n",
       "192           Low income  \n",
       "193  Lower middle income  \n",
       "194           Low income  \n",
       "\n",
       "[195 rows x 5 columns]>"
      ]
     },
     "execution_count": 14,
     "metadata": {},
     "output_type": "execute_result"
    }
   ],
   "source": [
    "df.head"
   ]
  },
  {
   "cell_type": "code",
   "execution_count": 15,
   "metadata": {},
   "outputs": [
    {
     "name": "stdout",
     "output_type": "stream",
     "text": [
      "\n",
      "Missing Values:\n",
      " CountryName      0\n",
      "CountryCode      0\n",
      "BirthRate        0\n",
      "InternetUsers    0\n",
      "IncomeGroup      0\n",
      "dtype: int64\n"
     ]
    }
   ],
   "source": [
    "\n",
    "# Missing Values Check\n",
    "print(\"\\nMissing Values:\\n\", df.isnull().sum())"
   ]
  },
  {
   "cell_type": "code",
   "execution_count": 16,
   "metadata": {},
   "outputs": [
    {
     "name": "stdout",
     "output_type": "stream",
     "text": [
      "\n",
      "🔹 AI-Generated Insights:\n",
      " 1. Summary: This dataset contains 195 observations (rows) with two variables: BirthRate and InternetUsers. The summary statistics for each variable are as follows:\n",
      "\n",
      "    - BirthRate:\n",
      "        - Count: 195 (all values are present)\n",
      "        - Mean: 21.4699 (on average, there were 21.47 births per region)\n",
      "        - Standard Deviation: 10.6055 (indicates the dispersion of the data from the mean)\n",
      "        - Minimum: 7.9 (the lowest number of births in a region was 7.9)\n",
      "        - Median: 19.68 (half the regions had a number of births less than or equal to this value, and half had more)\n",
      "        - 25th Percentile: 12.12 (25% of the regions had a number of births less than or equal to this value)\n",
      "        - 75th Percentile: 29.76 (75% of the regions had a number of births less than or equal to this value)\n",
      "        - Maximum: 49.66 (the highest number of births in a region was 49.66)\n",
      "    - InternetUsers:\n",
      "        - Count: 195 (all values are present)\n",
      "        - Mean: 42.08 (on average, there were 42.08 internet users per region)\n",
      "        - Standard Deviation: 29.03 (indicates the dispersion of the data from the mean)\n",
      "        - Minimum: 0.9 (the lowest number of internet users in a region was 0.9)\n",
      "        - Median: 41.00 (half the regions had a number of internet users less than or equal to this value, and half had more)\n",
      "        - 25th Percentile: 14.52 (25% of the regions had a number of internet users less than or equal to this value)\n",
      "        - 75th Percentile: 66.23 (75% of the regions had a number of internet users less than or equal to this value)\n",
      "        - Maximum: 96.55 (the highest number of internet users in a region was 96.55)\n",
      "\n",
      "2. Insights:\n",
      "   - The BirthRate varies significantly across regions, with a range of approximately 41.76 births (from 7.9 to 49.66). This suggests that some regions may have different demographic characteristics or policies affecting birth rates.\n",
      "   - The InternetUsers variable also shows considerable variation, ranging from 0.9 to 96.55. It is unclear whether this represents a percentage of the total population or the actual number of internet users in each region. However, it suggests that there are significant differences in internet penetration across these regions as well.\n",
      "   - Both variables have skewed distributions, as indicated by their interquartile ranges and standard deviations being relatively high compared to the medians. This means that a few outlier values may have a disproportionate impact on the mean and standard deviation calculations.\n",
      "   - It might be interesting to investigate possible correlations between these two variables (e.g., do regions with higher birth rates also have more internet users?). Additionally, other factors such as income level, education level, or urbanization could play a role in both birth rates and internet penetration, making them useful variables for further analysis.\n"
     ]
    }
   ],
   "source": [
    "\n",
    "import ollama\n",
    "\n",
    "def generate_insights(df_summary):\n",
    "    prompt = f\"Analyze the dataset summary and provide insights:\\n\\n{df_summary}\"\n",
    "    response = ollama.chat(model=\"mistral\", messages=[{\"role\": \"user\", \"content\": prompt}])\n",
    "    return response['message']['content']\n",
    "\n",
    "# Generate AI Insights\n",
    "summary = df.describe().to_string()\n",
    "insights = generate_insights(summary)\n",
    "print(\"\\n🔹 AI-Generated Insights:\\n\", insights)\n",
    "                         \n",
    "                           \n"
   ]
  },
  {
   "cell_type": "code",
   "execution_count": 17,
   "metadata": {},
   "outputs": [
    {
     "name": "stdout",
     "output_type": "stream",
     "text": [
      "* Running on local URL:  http://127.0.0.1:7862\n",
      "* Running on public URL: https://0d58b13a5e759fa175.gradio.live\n",
      "\n",
      "This share link expires in 72 hours. For free permanent hosting and GPU upgrades, run `gradio deploy` from the terminal in the working directory to deploy to Hugging Face Spaces (https://huggingface.co/spaces)\n"
     ]
    },
    {
     "data": {
      "text/html": [
       "<div><iframe src=\"https://0d58b13a5e759fa175.gradio.live\" width=\"100%\" height=\"500\" allow=\"autoplay; camera; microphone; clipboard-read; clipboard-write;\" frameborder=\"0\" allowfullscreen></iframe></div>"
      ],
      "text/plain": [
       "<IPython.core.display.HTML object>"
      ]
     },
     "metadata": {},
     "output_type": "display_data"
    },
    {
     "data": {
      "text/plain": []
     },
     "execution_count": 17,
     "metadata": {},
     "output_type": "execute_result"
    }
   ],
   "source": [
    "import gradio as gr\n",
    "\n",
    "def eda_analysis(file):\n",
    "    df = pd.read_csv(file.name)\n",
    "    summary = df.describe().to_string()\n",
    "    insights = generate_insights(summary)\n",
    "    return insights\n",
    "\n",
    "# Create Web Interface\n",
    "demo = gr.Interface(fn=eda_analysis, inputs=\"file\", outputs=\"text\", title=\"AI-Powered EDA with Mistral\")\n",
    "\n",
    "# Launch App\n",
    "demo.launch(share=True)  # Use share=True for Google Colab"
   ]
  },
  {
   "cell_type": "code",
   "execution_count": null,
   "metadata": {},
   "outputs": [],
   "source": []
  }
 ],
 "metadata": {
  "kernelspec": {
   "display_name": "Python 3",
   "language": "python",
   "name": "python3"
  },
  "language_info": {
   "codemirror_mode": {
    "name": "ipython",
    "version": 3
   },
   "file_extension": ".py",
   "mimetype": "text/x-python",
   "name": "python",
   "nbconvert_exporter": "python",
   "pygments_lexer": "ipython3",
   "version": "3.13.0"
  }
 },
 "nbformat": 4,
 "nbformat_minor": 2
}
